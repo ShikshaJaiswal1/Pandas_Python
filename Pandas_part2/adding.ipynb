{
 "cells": [
  {
   "cell_type": "markdown",
   "metadata": {},
   "source": [
    "Modification of Data\n",
    "\n",
    "Adding columns"
   ]
  },
  {
   "cell_type": "code",
   "execution_count": 1,
   "metadata": {},
   "outputs": [],
   "source": [
    "import pandas as pd"
   ]
  },
  {
   "cell_type": "code",
   "execution_count": 2,
   "metadata": {},
   "outputs": [],
   "source": [
    "data = {\n",
    "    \"Name\": [\"Amit\", \"Sita\", \"Raj\", \"Priya\", \"Vikram\", \"Anjali\", \"Rohan\", \"Kiran\", \"Meera\"],\n",
    "    \"Age\": [25, 30, 28, 35, 40, 29, 32, 26, 31],\n",
    "    \"Salary\": [50000, 60000, 55000, 75000, 80000, 52000, 70000, 48000, 65000],\n",
    "    \"Performance\": [\"Good\", \"Excellent\", \"Average\", \"Excellent\", \"Good\", \"Average\", \"Good\", \"Poor\", \"Excellent\"]\n",
    "}\n"
   ]
  },
  {
   "cell_type": "code",
   "execution_count": 3,
   "metadata": {},
   "outputs": [],
   "source": [
    "df = pd.DataFrame(data)"
   ]
  },
  {
   "cell_type": "markdown",
   "metadata": {},
   "source": [
    "To assign new column we can use:"
   ]
  },
  {
   "cell_type": "markdown",
   "metadata": {},
   "source": [
    "Square brackets df[\"Column_name\"] = some data"
   ]
  },
  {
   "cell_type": "code",
   "execution_count": 4,
   "metadata": {},
   "outputs": [],
   "source": [
    "df[\"Bonus\"] = df[\"Salary\"]+df[\"Salary\"] * 0.1"
   ]
  },
  {
   "cell_type": "code",
   "execution_count": 5,
   "metadata": {},
   "outputs": [
    {
     "data": {
      "text/html": [
       "<div>\n",
       "<style scoped>\n",
       "    .dataframe tbody tr th:only-of-type {\n",
       "        vertical-align: middle;\n",
       "    }\n",
       "\n",
       "    .dataframe tbody tr th {\n",
       "        vertical-align: top;\n",
       "    }\n",
       "\n",
       "    .dataframe thead th {\n",
       "        text-align: right;\n",
       "    }\n",
       "</style>\n",
       "<table border=\"1\" class=\"dataframe\">\n",
       "  <thead>\n",
       "    <tr style=\"text-align: right;\">\n",
       "      <th></th>\n",
       "      <th>Name</th>\n",
       "      <th>Age</th>\n",
       "      <th>Salary</th>\n",
       "      <th>Performance</th>\n",
       "      <th>Bonus</th>\n",
       "    </tr>\n",
       "  </thead>\n",
       "  <tbody>\n",
       "    <tr>\n",
       "      <th>0</th>\n",
       "      <td>Amit</td>\n",
       "      <td>25</td>\n",
       "      <td>50000</td>\n",
       "      <td>Good</td>\n",
       "      <td>55000.0</td>\n",
       "    </tr>\n",
       "    <tr>\n",
       "      <th>1</th>\n",
       "      <td>Sita</td>\n",
       "      <td>30</td>\n",
       "      <td>60000</td>\n",
       "      <td>Excellent</td>\n",
       "      <td>66000.0</td>\n",
       "    </tr>\n",
       "    <tr>\n",
       "      <th>2</th>\n",
       "      <td>Raj</td>\n",
       "      <td>28</td>\n",
       "      <td>55000</td>\n",
       "      <td>Average</td>\n",
       "      <td>60500.0</td>\n",
       "    </tr>\n",
       "    <tr>\n",
       "      <th>3</th>\n",
       "      <td>Priya</td>\n",
       "      <td>35</td>\n",
       "      <td>75000</td>\n",
       "      <td>Excellent</td>\n",
       "      <td>82500.0</td>\n",
       "    </tr>\n",
       "    <tr>\n",
       "      <th>4</th>\n",
       "      <td>Vikram</td>\n",
       "      <td>40</td>\n",
       "      <td>80000</td>\n",
       "      <td>Good</td>\n",
       "      <td>88000.0</td>\n",
       "    </tr>\n",
       "    <tr>\n",
       "      <th>5</th>\n",
       "      <td>Anjali</td>\n",
       "      <td>29</td>\n",
       "      <td>52000</td>\n",
       "      <td>Average</td>\n",
       "      <td>57200.0</td>\n",
       "    </tr>\n",
       "    <tr>\n",
       "      <th>6</th>\n",
       "      <td>Rohan</td>\n",
       "      <td>32</td>\n",
       "      <td>70000</td>\n",
       "      <td>Good</td>\n",
       "      <td>77000.0</td>\n",
       "    </tr>\n",
       "    <tr>\n",
       "      <th>7</th>\n",
       "      <td>Kiran</td>\n",
       "      <td>26</td>\n",
       "      <td>48000</td>\n",
       "      <td>Poor</td>\n",
       "      <td>52800.0</td>\n",
       "    </tr>\n",
       "    <tr>\n",
       "      <th>8</th>\n",
       "      <td>Meera</td>\n",
       "      <td>31</td>\n",
       "      <td>65000</td>\n",
       "      <td>Excellent</td>\n",
       "      <td>71500.0</td>\n",
       "    </tr>\n",
       "  </tbody>\n",
       "</table>\n",
       "</div>"
      ],
      "text/plain": [
       "     Name  Age  Salary Performance    Bonus\n",
       "0    Amit   25   50000        Good  55000.0\n",
       "1    Sita   30   60000   Excellent  66000.0\n",
       "2     Raj   28   55000     Average  60500.0\n",
       "3   Priya   35   75000   Excellent  82500.0\n",
       "4  Vikram   40   80000        Good  88000.0\n",
       "5  Anjali   29   52000     Average  57200.0\n",
       "6   Rohan   32   70000        Good  77000.0\n",
       "7   Kiran   26   48000        Poor  52800.0\n",
       "8   Meera   31   65000   Excellent  71500.0"
      ]
     },
     "execution_count": 5,
     "metadata": {},
     "output_type": "execute_result"
    }
   ],
   "source": [
    "df"
   ]
  },
  {
   "cell_type": "markdown",
   "metadata": {},
   "source": [
    "Now second using insert function\n",
    "\n",
    "df.insert(loc, \" column_name\", \"some_data\")"
   ]
  },
  {
   "cell_type": "code",
   "execution_count": 7,
   "metadata": {},
   "outputs": [],
   "source": [
    "df.insert(0,\"Employee_id\",[101, 102,103,104, 105,106,107,108,109])"
   ]
  },
  {
   "cell_type": "code",
   "execution_count": 8,
   "metadata": {},
   "outputs": [
    {
     "data": {
      "text/html": [
       "<div>\n",
       "<style scoped>\n",
       "    .dataframe tbody tr th:only-of-type {\n",
       "        vertical-align: middle;\n",
       "    }\n",
       "\n",
       "    .dataframe tbody tr th {\n",
       "        vertical-align: top;\n",
       "    }\n",
       "\n",
       "    .dataframe thead th {\n",
       "        text-align: right;\n",
       "    }\n",
       "</style>\n",
       "<table border=\"1\" class=\"dataframe\">\n",
       "  <thead>\n",
       "    <tr style=\"text-align: right;\">\n",
       "      <th></th>\n",
       "      <th>Employee_id</th>\n",
       "      <th>Name</th>\n",
       "      <th>Age</th>\n",
       "      <th>Salary</th>\n",
       "      <th>Performance</th>\n",
       "      <th>Bonus</th>\n",
       "    </tr>\n",
       "  </thead>\n",
       "  <tbody>\n",
       "    <tr>\n",
       "      <th>0</th>\n",
       "      <td>101</td>\n",
       "      <td>Amit</td>\n",
       "      <td>25</td>\n",
       "      <td>50000</td>\n",
       "      <td>Good</td>\n",
       "      <td>55000.0</td>\n",
       "    </tr>\n",
       "    <tr>\n",
       "      <th>1</th>\n",
       "      <td>102</td>\n",
       "      <td>Sita</td>\n",
       "      <td>30</td>\n",
       "      <td>60000</td>\n",
       "      <td>Excellent</td>\n",
       "      <td>66000.0</td>\n",
       "    </tr>\n",
       "    <tr>\n",
       "      <th>2</th>\n",
       "      <td>103</td>\n",
       "      <td>Raj</td>\n",
       "      <td>28</td>\n",
       "      <td>55000</td>\n",
       "      <td>Average</td>\n",
       "      <td>60500.0</td>\n",
       "    </tr>\n",
       "    <tr>\n",
       "      <th>3</th>\n",
       "      <td>104</td>\n",
       "      <td>Priya</td>\n",
       "      <td>35</td>\n",
       "      <td>75000</td>\n",
       "      <td>Excellent</td>\n",
       "      <td>82500.0</td>\n",
       "    </tr>\n",
       "    <tr>\n",
       "      <th>4</th>\n",
       "      <td>105</td>\n",
       "      <td>Vikram</td>\n",
       "      <td>40</td>\n",
       "      <td>80000</td>\n",
       "      <td>Good</td>\n",
       "      <td>88000.0</td>\n",
       "    </tr>\n",
       "    <tr>\n",
       "      <th>5</th>\n",
       "      <td>106</td>\n",
       "      <td>Anjali</td>\n",
       "      <td>29</td>\n",
       "      <td>52000</td>\n",
       "      <td>Average</td>\n",
       "      <td>57200.0</td>\n",
       "    </tr>\n",
       "    <tr>\n",
       "      <th>6</th>\n",
       "      <td>107</td>\n",
       "      <td>Rohan</td>\n",
       "      <td>32</td>\n",
       "      <td>70000</td>\n",
       "      <td>Good</td>\n",
       "      <td>77000.0</td>\n",
       "    </tr>\n",
       "    <tr>\n",
       "      <th>7</th>\n",
       "      <td>108</td>\n",
       "      <td>Kiran</td>\n",
       "      <td>26</td>\n",
       "      <td>48000</td>\n",
       "      <td>Poor</td>\n",
       "      <td>52800.0</td>\n",
       "    </tr>\n",
       "    <tr>\n",
       "      <th>8</th>\n",
       "      <td>109</td>\n",
       "      <td>Meera</td>\n",
       "      <td>31</td>\n",
       "      <td>65000</td>\n",
       "      <td>Excellent</td>\n",
       "      <td>71500.0</td>\n",
       "    </tr>\n",
       "  </tbody>\n",
       "</table>\n",
       "</div>"
      ],
      "text/plain": [
       "   Employee_id    Name  Age  Salary Performance    Bonus\n",
       "0          101    Amit   25   50000        Good  55000.0\n",
       "1          102    Sita   30   60000   Excellent  66000.0\n",
       "2          103     Raj   28   55000     Average  60500.0\n",
       "3          104   Priya   35   75000   Excellent  82500.0\n",
       "4          105  Vikram   40   80000        Good  88000.0\n",
       "5          106  Anjali   29   52000     Average  57200.0\n",
       "6          107   Rohan   32   70000        Good  77000.0\n",
       "7          108   Kiran   26   48000        Poor  52800.0\n",
       "8          109   Meera   31   65000   Excellent  71500.0"
      ]
     },
     "execution_count": 8,
     "metadata": {},
     "output_type": "execute_result"
    }
   ],
   "source": [
    "df"
   ]
  },
  {
   "cell_type": "code",
   "execution_count": null,
   "metadata": {},
   "outputs": [],
   "source": []
  }
 ],
 "metadata": {
  "kernelspec": {
   "display_name": ".venv",
   "language": "python",
   "name": "python3"
  },
  "language_info": {
   "codemirror_mode": {
    "name": "ipython",
    "version": 3
   },
   "file_extension": ".py",
   "mimetype": "text/x-python",
   "name": "python",
   "nbconvert_exporter": "python",
   "pygments_lexer": "ipython3",
   "version": "3.13.5"
  }
 },
 "nbformat": 4,
 "nbformat_minor": 2
}
