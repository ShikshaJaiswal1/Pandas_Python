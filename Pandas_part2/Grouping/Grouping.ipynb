{
 "cells": [
  {
   "cell_type": "markdown",
   "metadata": {},
   "source": [
    "Grouping in pandas is basically grouping the data in different different sub groups or small groups."
   ]
  },
  {
   "cell_type": "code",
   "execution_count": 1,
   "metadata": {},
   "outputs": [],
   "source": [
    "import pandas as pd"
   ]
  },
  {
   "cell_type": "code",
   "execution_count": 2,
   "metadata": {},
   "outputs": [],
   "source": [
    "data = {\n",
    "    \"Name\": [\"Amit\", \"Sita\", \"Raj\", \"Priya\", \"Vikram\", \"Anjali\", \"Rohan\", \"Kiran\", \"Meera\"],\n",
    "    \"Age\": [25, 30, 28, 35, 40, 29, 32, 26, 31],\n",
    "    \"Salary\": [50000, 60000, 55000, 75000, 80000, 52000, 70000, 48000, 65000],\n",
    "    \"Performance\": [\"Good\", \"Excellent\", \"Average\", \"Excellent\", \"Good\", \"Average\", \"Good\", \"Poor\", \"Excellent\"]\n",
    "}\n"
   ]
  },
  {
   "cell_type": "code",
   "execution_count": 3,
   "metadata": {},
   "outputs": [],
   "source": [
    "df = pd.DataFrame(data)"
   ]
  },
  {
   "cell_type": "markdown",
   "metadata": {},
   "source": [
    "df.groupby(\"Name_Of_Table\")[\"Table_on_which_operation_performed\"].aggregation_method()"
   ]
  },
  {
   "cell_type": "code",
   "execution_count": 4,
   "metadata": {},
   "outputs": [
    {
     "data": {
      "text/plain": [
       "Age\n",
       "25    50000\n",
       "26    48000\n",
       "28    55000\n",
       "29    52000\n",
       "30    60000\n",
       "31    65000\n",
       "32    70000\n",
       "35    75000\n",
       "40    80000\n",
       "Name: Salary, dtype: int64"
      ]
     },
     "execution_count": 4,
     "metadata": {},
     "output_type": "execute_result"
    }
   ],
   "source": [
    "df.groupby(\"Age\")[\"Salary\"].sum()"
   ]
  },
  {
   "cell_type": "code",
   "execution_count": null,
   "metadata": {},
   "outputs": [],
   "source": []
  }
 ],
 "metadata": {
  "kernelspec": {
   "display_name": ".venv",
   "language": "python",
   "name": "python3"
  },
  "language_info": {
   "codemirror_mode": {
    "name": "ipython",
    "version": 3
   },
   "file_extension": ".py",
   "mimetype": "text/x-python",
   "name": "python",
   "nbconvert_exporter": "python",
   "pygments_lexer": "ipython3",
   "version": "3.13.5"
  }
 },
 "nbformat": 4,
 "nbformat_minor": 2
}
