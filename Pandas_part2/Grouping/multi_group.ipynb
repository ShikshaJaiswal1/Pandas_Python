{
 "cells": [
  {
   "cell_type": "code",
   "execution_count": 2,
   "metadata": {},
   "outputs": [],
   "source": [
    "import pandas as pd"
   ]
  },
  {
   "cell_type": "code",
   "execution_count": 3,
   "metadata": {},
   "outputs": [],
   "source": [
    "data = {\n",
    "    \"Name\": [\"Amit\", \"Sita\", \"Raj\", \"Priya\", \"Vikram\", \"Anjali\", \"Rohan\", \"Kiran\", \"Meera\"],\n",
    "    \"Age\": [25, 30, 28, 35, 40, 29, 32, 26, 31],\n",
    "    \"Salary\": [50000, 60000, 55000, 75000, 80000, 52000, 70000, 48000, 65000],\n",
    "    \"Performance\": [\"Good\", \"Excellent\", \"Average\", \"Excellent\", \"Good\", \"Average\", \"Good\", \"Poor\", \"Excellent\"]\n",
    "}\n"
   ]
  },
  {
   "cell_type": "code",
   "execution_count": 5,
   "metadata": {},
   "outputs": [],
   "source": [
    "df = pd.DataFrame(data)"
   ]
  },
  {
   "cell_type": "code",
   "execution_count": 7,
   "metadata": {},
   "outputs": [
    {
     "data": {
      "text/plain": [
       "Age  Name  \n",
       "25   Amit      50000\n",
       "26   Kiran     48000\n",
       "28   Raj       55000\n",
       "29   Anjali    52000\n",
       "30   Sita      60000\n",
       "31   Meera     65000\n",
       "32   Rohan     70000\n",
       "35   Priya     75000\n",
       "40   Vikram    80000\n",
       "Name: Salary, dtype: int64"
      ]
     },
     "execution_count": 7,
     "metadata": {},
     "output_type": "execute_result"
    }
   ],
   "source": [
    "df.groupby([\"Age\",\"Name\"])[\"Salary\"].sum()"
   ]
  },
  {
   "cell_type": "markdown",
   "metadata": {},
   "source": [
    ".sum()\n",
    "\n",
    ".mean()\n",
    "\n",
    ".max()\n",
    "\n",
    ".min()\n",
    "\n",
    ".count()\n",
    "\n",
    ".std()"
   ]
  }
 ],
 "metadata": {
  "kernelspec": {
   "display_name": ".venv",
   "language": "python",
   "name": "python3"
  },
  "language_info": {
   "codemirror_mode": {
    "name": "ipython",
    "version": 3
   },
   "file_extension": ".py",
   "mimetype": "text/x-python",
   "name": "python",
   "nbconvert_exporter": "python",
   "pygments_lexer": "ipython3",
   "version": "3.13.5"
  }
 },
 "nbformat": 4,
 "nbformat_minor": 2
}
