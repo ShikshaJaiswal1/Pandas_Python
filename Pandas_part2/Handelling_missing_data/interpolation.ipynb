{
 "cells": [
  {
   "cell_type": "markdown",
   "metadata": {},
   "source": [
    "Interpolation is the method in which the missing value is filled with estimated value."
   ]
  },
  {
   "cell_type": "markdown",
   "metadata": {},
   "source": [
    "\n",
    "\n",
    "🔹 What is Interpolation?\n",
    "\n",
    "Interpolation is a method to **fill missing values (NaN)** by estimating them using existing data.\n",
    "Instead of filling with a fixed value (like mean/median), interpolation **guesses values** in a smarter way.\n",
    "\n",
    "---\n",
    "\n",
    "🔹 Syntax\n",
    "\n",
    "```python\n",
    "df[\"Column\"].interpolate(method=\"linear\", inplace=True)\n",
    "```\n",
    "\n",
    "---\n",
    "\n",
    "🔹 Common Interpolation Methods\n",
    "\n",
    "1. **Linear (default)**\n",
    "   Fills NaN with values on a straight line between previous and next numbers.\n",
    "\n",
    "   ```python\n",
    "   df[\"Age\"].interpolate(method=\"linear\", inplace=True)\n",
    "   ```\n",
    "\n",
    "2. **Time-based** (if index is datetime)\n",
    "\n",
    "   ```python\n",
    "   df[\"Sales\"].interpolate(method=\"time\", inplace=True)\n",
    "   ```\n",
    "\n",
    "3. **Polynomial** (curve fitting)\n",
    "\n",
    "   ```python\n",
    "   df[\"Age\"].interpolate(method=\"polynomial\", order=2, inplace=True)\n",
    "   ```\n"
   ]
  },
  {
   "cell_type": "markdown",
   "metadata": {},
   "source": [
    "1 - It preserves data integrity\n",
    "\n",
    "2 - Smooth Trends\n",
    "\n",
    "3 - Avoid data loss\n"
   ]
  },
  {
   "cell_type": "markdown",
   "metadata": {},
   "source": [
    ".interpolate()"
   ]
  },
  {
   "cell_type": "code",
   "execution_count": 8,
   "metadata": {},
   "outputs": [],
   "source": [
    "import pandas as pd"
   ]
  },
  {
   "cell_type": "code",
   "execution_count": 9,
   "metadata": {},
   "outputs": [],
   "source": [
    "data = {\n",
    "    \"Name\": [\"Amit\", \"Sita\", None, \"Priya\", \"Vikram\", None, \"Rohan\", \"Kiran\", \"Meera\"],\n",
    "    \"Age\": [25, 30, 28,None, 40, 29, 32, 26, 31],\n",
    "    \"Salary\": [50000, 60000, 55000, None, 80000, 52000, 70000, None, 65000],\n",
    "    \"Performance\": [\"Good\", \"Excellent\", None, \"Excellent\", \"Good\", \"Average\", \"Good\", \"Poor\", \"Excellent\"]\n",
    "}\n"
   ]
  },
  {
   "cell_type": "code",
   "execution_count": 10,
   "metadata": {},
   "outputs": [],
   "source": [
    "df = pd.DataFrame(data)"
   ]
  },
  {
   "cell_type": "code",
   "execution_count": 11,
   "metadata": {},
   "outputs": [
    {
     "name": "stderr",
     "output_type": "stream",
     "text": [
      "/var/folders/jl/xxjcm0qx7xj346hs52l0ppkc0000gn/T/ipykernel_5733/2750149170.py:1: FutureWarning: DataFrame.interpolate with object dtype is deprecated and will raise in a future version. Call obj.infer_objects(copy=False) before interpolating instead.\n",
      "  df.interpolate(method=\"linear\",  axis = 0 , inplace= True)\n"
     ]
    }
   ],
   "source": [
    "df.interpolate(method=\"linear\",  axis = 0 , inplace= True)"
   ]
  },
  {
   "cell_type": "code",
   "execution_count": 12,
   "metadata": {},
   "outputs": [
    {
     "data": {
      "text/html": [
       "<div>\n",
       "<style scoped>\n",
       "    .dataframe tbody tr th:only-of-type {\n",
       "        vertical-align: middle;\n",
       "    }\n",
       "\n",
       "    .dataframe tbody tr th {\n",
       "        vertical-align: top;\n",
       "    }\n",
       "\n",
       "    .dataframe thead th {\n",
       "        text-align: right;\n",
       "    }\n",
       "</style>\n",
       "<table border=\"1\" class=\"dataframe\">\n",
       "  <thead>\n",
       "    <tr style=\"text-align: right;\">\n",
       "      <th></th>\n",
       "      <th>Name</th>\n",
       "      <th>Age</th>\n",
       "      <th>Salary</th>\n",
       "      <th>Performance</th>\n",
       "    </tr>\n",
       "  </thead>\n",
       "  <tbody>\n",
       "    <tr>\n",
       "      <th>0</th>\n",
       "      <td>Amit</td>\n",
       "      <td>25.0</td>\n",
       "      <td>50000.0</td>\n",
       "      <td>Good</td>\n",
       "    </tr>\n",
       "    <tr>\n",
       "      <th>1</th>\n",
       "      <td>Sita</td>\n",
       "      <td>30.0</td>\n",
       "      <td>60000.0</td>\n",
       "      <td>Excellent</td>\n",
       "    </tr>\n",
       "    <tr>\n",
       "      <th>2</th>\n",
       "      <td>None</td>\n",
       "      <td>28.0</td>\n",
       "      <td>55000.0</td>\n",
       "      <td>None</td>\n",
       "    </tr>\n",
       "    <tr>\n",
       "      <th>3</th>\n",
       "      <td>Priya</td>\n",
       "      <td>34.0</td>\n",
       "      <td>67500.0</td>\n",
       "      <td>Excellent</td>\n",
       "    </tr>\n",
       "    <tr>\n",
       "      <th>4</th>\n",
       "      <td>Vikram</td>\n",
       "      <td>40.0</td>\n",
       "      <td>80000.0</td>\n",
       "      <td>Good</td>\n",
       "    </tr>\n",
       "    <tr>\n",
       "      <th>5</th>\n",
       "      <td>None</td>\n",
       "      <td>29.0</td>\n",
       "      <td>52000.0</td>\n",
       "      <td>Average</td>\n",
       "    </tr>\n",
       "    <tr>\n",
       "      <th>6</th>\n",
       "      <td>Rohan</td>\n",
       "      <td>32.0</td>\n",
       "      <td>70000.0</td>\n",
       "      <td>Good</td>\n",
       "    </tr>\n",
       "    <tr>\n",
       "      <th>7</th>\n",
       "      <td>Kiran</td>\n",
       "      <td>26.0</td>\n",
       "      <td>67500.0</td>\n",
       "      <td>Poor</td>\n",
       "    </tr>\n",
       "    <tr>\n",
       "      <th>8</th>\n",
       "      <td>Meera</td>\n",
       "      <td>31.0</td>\n",
       "      <td>65000.0</td>\n",
       "      <td>Excellent</td>\n",
       "    </tr>\n",
       "  </tbody>\n",
       "</table>\n",
       "</div>"
      ],
      "text/plain": [
       "     Name   Age   Salary Performance\n",
       "0    Amit  25.0  50000.0        Good\n",
       "1    Sita  30.0  60000.0   Excellent\n",
       "2    None  28.0  55000.0        None\n",
       "3   Priya  34.0  67500.0   Excellent\n",
       "4  Vikram  40.0  80000.0        Good\n",
       "5    None  29.0  52000.0     Average\n",
       "6   Rohan  32.0  70000.0        Good\n",
       "7   Kiran  26.0  67500.0        Poor\n",
       "8   Meera  31.0  65000.0   Excellent"
      ]
     },
     "execution_count": 12,
     "metadata": {},
     "output_type": "execute_result"
    }
   ],
   "source": [
    "df"
   ]
  },
  {
   "cell_type": "code",
   "execution_count": null,
   "metadata": {},
   "outputs": [],
   "source": []
  }
 ],
 "metadata": {
  "kernelspec": {
   "display_name": ".venv",
   "language": "python",
   "name": "python3"
  },
  "language_info": {
   "codemirror_mode": {
    "name": "ipython",
    "version": 3
   },
   "file_extension": ".py",
   "mimetype": "text/x-python",
   "name": "python",
   "nbconvert_exporter": "python",
   "pygments_lexer": "ipython3",
   "version": "3.13.5"
  }
 },
 "nbformat": 4,
 "nbformat_minor": 2
}
