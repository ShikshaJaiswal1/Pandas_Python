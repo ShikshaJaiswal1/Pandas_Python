{
 "cells": [
  {
   "cell_type": "markdown",
   "metadata": {},
   "source": [
    "Pandas is a Python library used for data analysis and manipulation."
   ]
  },
  {
   "cell_type": "markdown",
   "metadata": {},
   "source": [
    "Key Points:\n",
    "\n",
    "Data Structures:\n",
    "\n",
    "Series → 1D data (like a single column).\n",
    "\n",
    "DataFrame → 2D data (like an Excel sheet with rows and columns).\n",
    "\n",
    "File Handling: Can read and write data in CSV, Excel, SQL, JSON, etc.\n",
    "\n",
    "Data Cleaning: Handle missing values, duplicates, data types.\n",
    "\n",
    "Data Analysis: Grouping, filtering, aggregating, summarizing.\n",
    "\n",
    "Visualization: Works well with libraries like Matplotlib & Seaborn."
   ]
  },
  {
   "cell_type": "markdown",
   "metadata": {},
   "source": [
    "Data Manipulation\n",
    "\n",
    "👉 Cleaning & preparing data so it’s usable.\n",
    "Tasks: select, filter, sort, merge, handle missing values, create new columns.\n",
    "\n",
    "Data Analysis\n",
    "\n",
    "👉 Extracting patterns, trends and insights & meaning from the data to solve problems.\n",
    "Tasks: summarize, group, aggregate, find averages, detect patterns, visualize.\n",
    "\n",
    "⚡ Think of it like this:\n",
    "\n",
    "Manipulation = Preparing ingredients\n",
    "\n",
    "Analysis = Cooking & tasting the dish"
   ]
  },
  {
   "cell_type": "markdown",
   "metadata": {},
   "source": [
    "In data manipulation the data is organised where as in data analysis the data  is used to find patterns, trends and solve problems."
   ]
  },
  {
   "cell_type": "markdown",
   "metadata": {},
   "source": [
    "Pandas was created by Wes McKinney, a data scientist and software developer in 2008."
   ]
  },
  {
   "cell_type": "markdown",
   "metadata": {},
   "source": [
    "At that time, Python already had NumPy for numerical computing, but it was not enough for real-world data analysis tasks like working with tables (rows & columns).\n",
    "\n",
    "So Pandas was built to:\n",
    "\n",
    "Handle Structured Data → Like Excel/SQL tables inside Python.\n",
    "\n",
    "Make Data Cleaning Easy → Missing values, duplicates, reshaping.\n",
    "\n",
    "Enable Fast Analysis → Summarizing, grouping, filtering, aggregating.\n",
    "\n",
    "Bridge the Gap → Between raw data (CSV, Excel, SQL) and statistical/machine learning libraries.\n",
    "\n",
    "Boost Productivity → Less code, more readable, high performance.\n",
    "\n",
    "⚡ In short: Pandas was created to give Python a powerful, flexible, Excel/SQL-like tool for data manipulation and analysis."
   ]
  },
  {
   "cell_type": "markdown",
   "metadata": {},
   "source": [
    "Works seamlessly with structured data formats like CSV and Excel.\n",
    "\n",
    "\n",
    "Handles missing data well.\n",
    "\n",
    "\n",
    "Built on numpy for fast computations."
   ]
  },
  {
   "cell_type": "markdown",
   "metadata": {},
   "source": [
    "We use pandas for performance, ease of use, Integration."
   ]
  },
  {
   "cell_type": "markdown",
   "metadata": {},
   "source": [
    "Real life example of pandas:\n",
    "\n",
    "Finance\n",
    "\n",
    "Retail\n",
    "\n",
    "Healthcare"
   ]
  },
  {
   "cell_type": "markdown",
   "metadata": {},
   "source": [
    "A series is one dimensional labelled array that can hold any data types: integers, floats, strings, or even python objects.\n",
    "\n",
    "Each element in the series has a unique label called an index.\n",
    "\n",
    "It is often used to track changes or patterns over time such as daily temperature, stock prices , or sales revenue."
   ]
  },
  {
   "cell_type": "markdown",
   "metadata": {},
   "source": [
    "Dataframes is a 2D labelled data structure in pandas similar to a table in database, an Excel spreadsheet or a SQL table.\n",
    "\n",
    "It consists of row and columns:\n",
    "\n",
    "Rows have indices(labels).\n",
    "\n",
    "Columns have names(labels)."
   ]
  }
 ],
 "metadata": {
  "kernelspec": {
   "display_name": ".venv",
   "language": "python",
   "name": "python3"
  },
  "language_info": {
   "codemirror_mode": {
    "name": "ipython",
    "version": 3
   },
   "file_extension": ".py",
   "mimetype": "text/x-python",
   "name": "python",
   "nbconvert_exporter": "python",
   "pygments_lexer": "ipython3",
   "version": "3.13.5"
  }
 },
 "nbformat": 4,
 "nbformat_minor": 2
}
