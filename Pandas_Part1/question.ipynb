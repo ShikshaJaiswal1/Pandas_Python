{
 "cells": [
  {
   "cell_type": "markdown",
   "metadata": {},
   "source": [
    "Solution for the problems:"
   ]
  },
  {
   "cell_type": "markdown",
   "metadata": {},
   "source": [
    "1. Select specific columns\n",
    "2. fillter rows\n",
    "3. ombine multiple columns"
   ]
  },
  {
   "cell_type": "markdown",
   "metadata": {},
   "source": [
    "1 - square brackets\n",
    "2 - boolean conditions"
   ]
  },
  {
   "cell_type": "markdown",
   "metadata": {},
   "source": [
    "selecting columns\n",
    "\n",
    "1- a series\n",
    "2- dataframes multiple columns of data\n",
    "\n",
    "column = df = [\"Column_name\",column2_name]  for accessing column"
   ]
  },
  {
   "cell_type": "markdown",
   "metadata": {},
   "source": [
    "filttering rows \n",
    "\n",
    "boolean indexing"
   ]
  },
  {
   "cell_type": "markdown",
   "metadata": {},
   "source": [
    "Filttering row based on single condition:\n",
    "\n",
    "filltered_rows =df [df [\"Column_name\"] > 50000]\n",
    "\n",
    "for multiple conditions:\n",
    "\n",
    "filltered_row = df[(df[\"Salary\"]> 50000) & (df[\"Salary\"] < 80000)]"
   ]
  },
  {
   "cell_type": "markdown",
   "metadata": {},
   "source": [
    "---\n",
    "\n",
    "## ✅ 1. Selecting Specific Columns\n",
    "\n",
    "* **Single column → Series**\n",
    "\n",
    "```python\n",
    "# Returns a Series\n",
    "df[\"Name\"]\n",
    "```\n",
    "\n",
    "* **Multiple columns → DataFrame**\n",
    "\n",
    "```python\n",
    "# Returns a DataFrame\n",
    "df[[\"Name\", \"Salary\"]]\n",
    "```\n",
    "\n",
    "---\n",
    "\n",
    "## ✅ 2. Filtering Rows (Boolean Indexing)\n",
    "\n",
    "* **Single condition**\n",
    "\n",
    "```python\n",
    "# Employees with Salary > 50000\n",
    "filtered_rows = df[df[\"Salary\"] > 50000]\n",
    "```\n",
    "\n",
    "* **Multiple conditions**\n",
    "\n",
    "```python\n",
    "# Employees with Salary > 50000 AND Salary < 80000\n",
    "filtered_rows = df[(df[\"Salary\"] > 50000) & (df[\"Salary\"] < 80000)]\n",
    "\n",
    "# OR condition (|)\n",
    "filtered_rows = df[(df[\"Age\"] < 30) | (df[\"Performance\"] == \"Excellent\")]\n",
    "```\n",
    "\n",
    "---\n",
    "\n",
    "## ✅ 3. Combining Multiple Columns\n",
    "\n",
    "You can create a **new column** by combining others:\n",
    "\n",
    "```python\n",
    "# Example: Create a column with Name and Performance together\n",
    "df[\"Summary\"] = df[\"Name\"] + \" - \" + df[\"Performance\"]\n",
    "\n",
    "# Example: Salary after Bonus (10%)\n",
    "df[\"Salary_with_Bonus\"] = df[\"Salary\"] + (df[\"Salary\"] * 0.10)\n",
    "```\n",
    "\n",
    "---\n",
    "\n",
    "⚡ **Summary:**\n",
    "\n",
    "* `df[\"col\"]` → single column (Series)\n",
    "* `df[[\"col1\",\"col2\"]]` → multiple columns (DataFrame)\n",
    "* `df[condition]` → filter rows\n",
    "* `df[\"new_col\"] = ...` → create/modify columns\n",
    "\n",
    "---"
   ]
  },
  {
   "cell_type": "code",
   "execution_count": 1,
   "metadata": {},
   "outputs": [],
   "source": [
    "import pandas as pd"
   ]
  },
  {
   "cell_type": "code",
   "execution_count": 2,
   "metadata": {},
   "outputs": [],
   "source": [
    "data = {\n",
    "    \"Name\": [\"Amit\", \"Sita\", \"Raj\", \"Priya\", \"Vikram\", \"Anjali\", \"Rohan\", \"Kiran\", \"Meera\"],\n",
    "    \"Age\": [25, 30, 28, 35, 40, 29, 32, 26, 31],\n",
    "    \"Salary\": [50000, 60000, 55000, 75000, 80000, 52000, 70000, 48000, 65000],\n",
    "    \"Performance\": [\"Good\", \"Excellent\", \"Average\", \"Excellent\", \"Good\", \"Average\", \"Good\", \"Poor\", \"Excellent\"]\n",
    "}\n"
   ]
  },
  {
   "cell_type": "code",
   "execution_count": 3,
   "metadata": {},
   "outputs": [],
   "source": [
    "df  = pd.DataFrame(data)"
   ]
  },
  {
   "cell_type": "code",
   "execution_count": 4,
   "metadata": {},
   "outputs": [
    {
     "name": "stdout",
     "output_type": "stream",
     "text": [
      "Sample Dataframe :\n"
     ]
    }
   ],
   "source": [
    "print(\"Sample Dataframe :\")"
   ]
  },
  {
   "cell_type": "code",
   "execution_count": 5,
   "metadata": {},
   "outputs": [
    {
     "data": {
      "text/html": [
       "<div>\n",
       "<style scoped>\n",
       "    .dataframe tbody tr th:only-of-type {\n",
       "        vertical-align: middle;\n",
       "    }\n",
       "\n",
       "    .dataframe tbody tr th {\n",
       "        vertical-align: top;\n",
       "    }\n",
       "\n",
       "    .dataframe thead th {\n",
       "        text-align: right;\n",
       "    }\n",
       "</style>\n",
       "<table border=\"1\" class=\"dataframe\">\n",
       "  <thead>\n",
       "    <tr style=\"text-align: right;\">\n",
       "      <th></th>\n",
       "      <th>Name</th>\n",
       "      <th>Age</th>\n",
       "      <th>Salary</th>\n",
       "      <th>Performance</th>\n",
       "    </tr>\n",
       "  </thead>\n",
       "  <tbody>\n",
       "    <tr>\n",
       "      <th>0</th>\n",
       "      <td>Amit</td>\n",
       "      <td>25</td>\n",
       "      <td>50000</td>\n",
       "      <td>Good</td>\n",
       "    </tr>\n",
       "    <tr>\n",
       "      <th>1</th>\n",
       "      <td>Sita</td>\n",
       "      <td>30</td>\n",
       "      <td>60000</td>\n",
       "      <td>Excellent</td>\n",
       "    </tr>\n",
       "    <tr>\n",
       "      <th>2</th>\n",
       "      <td>Raj</td>\n",
       "      <td>28</td>\n",
       "      <td>55000</td>\n",
       "      <td>Average</td>\n",
       "    </tr>\n",
       "    <tr>\n",
       "      <th>3</th>\n",
       "      <td>Priya</td>\n",
       "      <td>35</td>\n",
       "      <td>75000</td>\n",
       "      <td>Excellent</td>\n",
       "    </tr>\n",
       "    <tr>\n",
       "      <th>4</th>\n",
       "      <td>Vikram</td>\n",
       "      <td>40</td>\n",
       "      <td>80000</td>\n",
       "      <td>Good</td>\n",
       "    </tr>\n",
       "    <tr>\n",
       "      <th>5</th>\n",
       "      <td>Anjali</td>\n",
       "      <td>29</td>\n",
       "      <td>52000</td>\n",
       "      <td>Average</td>\n",
       "    </tr>\n",
       "    <tr>\n",
       "      <th>6</th>\n",
       "      <td>Rohan</td>\n",
       "      <td>32</td>\n",
       "      <td>70000</td>\n",
       "      <td>Good</td>\n",
       "    </tr>\n",
       "    <tr>\n",
       "      <th>7</th>\n",
       "      <td>Kiran</td>\n",
       "      <td>26</td>\n",
       "      <td>48000</td>\n",
       "      <td>Poor</td>\n",
       "    </tr>\n",
       "    <tr>\n",
       "      <th>8</th>\n",
       "      <td>Meera</td>\n",
       "      <td>31</td>\n",
       "      <td>65000</td>\n",
       "      <td>Excellent</td>\n",
       "    </tr>\n",
       "  </tbody>\n",
       "</table>\n",
       "</div>"
      ],
      "text/plain": [
       "     Name  Age  Salary Performance\n",
       "0    Amit   25   50000        Good\n",
       "1    Sita   30   60000   Excellent\n",
       "2     Raj   28   55000     Average\n",
       "3   Priya   35   75000   Excellent\n",
       "4  Vikram   40   80000        Good\n",
       "5  Anjali   29   52000     Average\n",
       "6   Rohan   32   70000        Good\n",
       "7   Kiran   26   48000        Poor\n",
       "8   Meera   31   65000   Excellent"
      ]
     },
     "execution_count": 5,
     "metadata": {},
     "output_type": "execute_result"
    }
   ],
   "source": [
    "df"
   ]
  },
  {
   "cell_type": "code",
   "execution_count": 6,
   "metadata": {},
   "outputs": [
    {
     "name": "stdout",
     "output_type": "stream",
     "text": [
      "Single column(Will return a series) : \n"
     ]
    }
   ],
   "source": [
    "print(\"Single column(Will return a series) : \")"
   ]
  },
  {
   "cell_type": "code",
   "execution_count": 7,
   "metadata": {},
   "outputs": [
    {
     "data": {
      "text/plain": [
       "0      Amit\n",
       "1      Sita\n",
       "2       Raj\n",
       "3     Priya\n",
       "4    Vikram\n",
       "5    Anjali\n",
       "6     Rohan\n",
       "7     Kiran\n",
       "8     Meera\n",
       "Name: Name, dtype: object"
      ]
     },
     "execution_count": 7,
     "metadata": {},
     "output_type": "execute_result"
    }
   ],
   "source": [
    "df[\"Name\"]"
   ]
  },
  {
   "cell_type": "code",
   "execution_count": 10,
   "metadata": {},
   "outputs": [
    {
     "data": {
      "text/html": [
       "<div>\n",
       "<style scoped>\n",
       "    .dataframe tbody tr th:only-of-type {\n",
       "        vertical-align: middle;\n",
       "    }\n",
       "\n",
       "    .dataframe tbody tr th {\n",
       "        vertical-align: top;\n",
       "    }\n",
       "\n",
       "    .dataframe thead th {\n",
       "        text-align: right;\n",
       "    }\n",
       "</style>\n",
       "<table border=\"1\" class=\"dataframe\">\n",
       "  <thead>\n",
       "    <tr style=\"text-align: right;\">\n",
       "      <th></th>\n",
       "      <th>Name</th>\n",
       "      <th>Performance</th>\n",
       "    </tr>\n",
       "  </thead>\n",
       "  <tbody>\n",
       "    <tr>\n",
       "      <th>0</th>\n",
       "      <td>Amit</td>\n",
       "      <td>Good</td>\n",
       "    </tr>\n",
       "    <tr>\n",
       "      <th>1</th>\n",
       "      <td>Sita</td>\n",
       "      <td>Excellent</td>\n",
       "    </tr>\n",
       "    <tr>\n",
       "      <th>2</th>\n",
       "      <td>Raj</td>\n",
       "      <td>Average</td>\n",
       "    </tr>\n",
       "    <tr>\n",
       "      <th>3</th>\n",
       "      <td>Priya</td>\n",
       "      <td>Excellent</td>\n",
       "    </tr>\n",
       "    <tr>\n",
       "      <th>4</th>\n",
       "      <td>Vikram</td>\n",
       "      <td>Good</td>\n",
       "    </tr>\n",
       "    <tr>\n",
       "      <th>5</th>\n",
       "      <td>Anjali</td>\n",
       "      <td>Average</td>\n",
       "    </tr>\n",
       "    <tr>\n",
       "      <th>6</th>\n",
       "      <td>Rohan</td>\n",
       "      <td>Good</td>\n",
       "    </tr>\n",
       "    <tr>\n",
       "      <th>7</th>\n",
       "      <td>Kiran</td>\n",
       "      <td>Poor</td>\n",
       "    </tr>\n",
       "    <tr>\n",
       "      <th>8</th>\n",
       "      <td>Meera</td>\n",
       "      <td>Excellent</td>\n",
       "    </tr>\n",
       "  </tbody>\n",
       "</table>\n",
       "</div>"
      ],
      "text/plain": [
       "     Name Performance\n",
       "0    Amit        Good\n",
       "1    Sita   Excellent\n",
       "2     Raj     Average\n",
       "3   Priya   Excellent\n",
       "4  Vikram        Good\n",
       "5  Anjali     Average\n",
       "6   Rohan        Good\n",
       "7   Kiran        Poor\n",
       "8   Meera   Excellent"
      ]
     },
     "execution_count": 10,
     "metadata": {},
     "output_type": "execute_result"
    }
   ],
   "source": [
    "df[[\"Name\", \"Performance\"]]"
   ]
  },
  {
   "cell_type": "markdown",
   "metadata": {},
   "source": [
    "Now for filltering rows:"
   ]
  },
  {
   "cell_type": "code",
   "execution_count": 11,
   "metadata": {},
   "outputs": [
    {
     "data": {
      "text/html": [
       "<div>\n",
       "<style scoped>\n",
       "    .dataframe tbody tr th:only-of-type {\n",
       "        vertical-align: middle;\n",
       "    }\n",
       "\n",
       "    .dataframe tbody tr th {\n",
       "        vertical-align: top;\n",
       "    }\n",
       "\n",
       "    .dataframe thead th {\n",
       "        text-align: right;\n",
       "    }\n",
       "</style>\n",
       "<table border=\"1\" class=\"dataframe\">\n",
       "  <thead>\n",
       "    <tr style=\"text-align: right;\">\n",
       "      <th></th>\n",
       "      <th>Name</th>\n",
       "      <th>Age</th>\n",
       "      <th>Salary</th>\n",
       "      <th>Performance</th>\n",
       "    </tr>\n",
       "  </thead>\n",
       "  <tbody>\n",
       "    <tr>\n",
       "      <th>1</th>\n",
       "      <td>Sita</td>\n",
       "      <td>30</td>\n",
       "      <td>60000</td>\n",
       "      <td>Excellent</td>\n",
       "    </tr>\n",
       "    <tr>\n",
       "      <th>2</th>\n",
       "      <td>Raj</td>\n",
       "      <td>28</td>\n",
       "      <td>55000</td>\n",
       "      <td>Average</td>\n",
       "    </tr>\n",
       "    <tr>\n",
       "      <th>3</th>\n",
       "      <td>Priya</td>\n",
       "      <td>35</td>\n",
       "      <td>75000</td>\n",
       "      <td>Excellent</td>\n",
       "    </tr>\n",
       "    <tr>\n",
       "      <th>4</th>\n",
       "      <td>Vikram</td>\n",
       "      <td>40</td>\n",
       "      <td>80000</td>\n",
       "      <td>Good</td>\n",
       "    </tr>\n",
       "    <tr>\n",
       "      <th>5</th>\n",
       "      <td>Anjali</td>\n",
       "      <td>29</td>\n",
       "      <td>52000</td>\n",
       "      <td>Average</td>\n",
       "    </tr>\n",
       "    <tr>\n",
       "      <th>6</th>\n",
       "      <td>Rohan</td>\n",
       "      <td>32</td>\n",
       "      <td>70000</td>\n",
       "      <td>Good</td>\n",
       "    </tr>\n",
       "    <tr>\n",
       "      <th>8</th>\n",
       "      <td>Meera</td>\n",
       "      <td>31</td>\n",
       "      <td>65000</td>\n",
       "      <td>Excellent</td>\n",
       "    </tr>\n",
       "  </tbody>\n",
       "</table>\n",
       "</div>"
      ],
      "text/plain": [
       "     Name  Age  Salary Performance\n",
       "1    Sita   30   60000   Excellent\n",
       "2     Raj   28   55000     Average\n",
       "3   Priya   35   75000   Excellent\n",
       "4  Vikram   40   80000        Good\n",
       "5  Anjali   29   52000     Average\n",
       "6   Rohan   32   70000        Good\n",
       "8   Meera   31   65000   Excellent"
      ]
     },
     "execution_count": 11,
     "metadata": {},
     "output_type": "execute_result"
    }
   ],
   "source": [
    "df[df[\"Salary\"]> 50000]"
   ]
  },
  {
   "cell_type": "code",
   "execution_count": 13,
   "metadata": {},
   "outputs": [
    {
     "data": {
      "text/html": [
       "<div>\n",
       "<style scoped>\n",
       "    .dataframe tbody tr th:only-of-type {\n",
       "        vertical-align: middle;\n",
       "    }\n",
       "\n",
       "    .dataframe tbody tr th {\n",
       "        vertical-align: top;\n",
       "    }\n",
       "\n",
       "    .dataframe thead th {\n",
       "        text-align: right;\n",
       "    }\n",
       "</style>\n",
       "<table border=\"1\" class=\"dataframe\">\n",
       "  <thead>\n",
       "    <tr style=\"text-align: right;\">\n",
       "      <th></th>\n",
       "      <th>Name</th>\n",
       "      <th>Age</th>\n",
       "      <th>Salary</th>\n",
       "      <th>Performance</th>\n",
       "    </tr>\n",
       "  </thead>\n",
       "  <tbody>\n",
       "    <tr>\n",
       "      <th>1</th>\n",
       "      <td>Sita</td>\n",
       "      <td>30</td>\n",
       "      <td>60000</td>\n",
       "      <td>Excellent</td>\n",
       "    </tr>\n",
       "    <tr>\n",
       "      <th>2</th>\n",
       "      <td>Raj</td>\n",
       "      <td>28</td>\n",
       "      <td>55000</td>\n",
       "      <td>Average</td>\n",
       "    </tr>\n",
       "    <tr>\n",
       "      <th>5</th>\n",
       "      <td>Anjali</td>\n",
       "      <td>29</td>\n",
       "      <td>52000</td>\n",
       "      <td>Average</td>\n",
       "    </tr>\n",
       "    <tr>\n",
       "      <th>8</th>\n",
       "      <td>Meera</td>\n",
       "      <td>31</td>\n",
       "      <td>65000</td>\n",
       "      <td>Excellent</td>\n",
       "    </tr>\n",
       "  </tbody>\n",
       "</table>\n",
       "</div>"
      ],
      "text/plain": [
       "     Name  Age  Salary Performance\n",
       "1    Sita   30   60000   Excellent\n",
       "2     Raj   28   55000     Average\n",
       "5  Anjali   29   52000     Average\n",
       "8   Meera   31   65000   Excellent"
      ]
     },
     "execution_count": 13,
     "metadata": {},
     "output_type": "execute_result"
    }
   ],
   "source": [
    "df[(df[\"Salary\"]> 50000) & (df[\"Salary\"]<70000)]"
   ]
  },
  {
   "cell_type": "code",
   "execution_count": 14,
   "metadata": {},
   "outputs": [
    {
     "data": {
      "text/html": [
       "<div>\n",
       "<style scoped>\n",
       "    .dataframe tbody tr th:only-of-type {\n",
       "        vertical-align: middle;\n",
       "    }\n",
       "\n",
       "    .dataframe tbody tr th {\n",
       "        vertical-align: top;\n",
       "    }\n",
       "\n",
       "    .dataframe thead th {\n",
       "        text-align: right;\n",
       "    }\n",
       "</style>\n",
       "<table border=\"1\" class=\"dataframe\">\n",
       "  <thead>\n",
       "    <tr style=\"text-align: right;\">\n",
       "      <th></th>\n",
       "      <th>Name</th>\n",
       "      <th>Age</th>\n",
       "      <th>Salary</th>\n",
       "      <th>Performance</th>\n",
       "    </tr>\n",
       "  </thead>\n",
       "  <tbody>\n",
       "    <tr>\n",
       "      <th>0</th>\n",
       "      <td>Amit</td>\n",
       "      <td>25</td>\n",
       "      <td>50000</td>\n",
       "      <td>Good</td>\n",
       "    </tr>\n",
       "    <tr>\n",
       "      <th>4</th>\n",
       "      <td>Vikram</td>\n",
       "      <td>40</td>\n",
       "      <td>80000</td>\n",
       "      <td>Good</td>\n",
       "    </tr>\n",
       "    <tr>\n",
       "      <th>6</th>\n",
       "      <td>Rohan</td>\n",
       "      <td>32</td>\n",
       "      <td>70000</td>\n",
       "      <td>Good</td>\n",
       "    </tr>\n",
       "  </tbody>\n",
       "</table>\n",
       "</div>"
      ],
      "text/plain": [
       "     Name  Age  Salary Performance\n",
       "0    Amit   25   50000        Good\n",
       "4  Vikram   40   80000        Good\n",
       "6   Rohan   32   70000        Good"
      ]
     },
     "execution_count": 14,
     "metadata": {},
     "output_type": "execute_result"
    }
   ],
   "source": [
    "df[df[\"Performance\"]==\"Good\"]"
   ]
  },
  {
   "cell_type": "code",
   "execution_count": 15,
   "metadata": {},
   "outputs": [
    {
     "data": {
      "text/html": [
       "<div>\n",
       "<style scoped>\n",
       "    .dataframe tbody tr th:only-of-type {\n",
       "        vertical-align: middle;\n",
       "    }\n",
       "\n",
       "    .dataframe tbody tr th {\n",
       "        vertical-align: top;\n",
       "    }\n",
       "\n",
       "    .dataframe thead th {\n",
       "        text-align: right;\n",
       "    }\n",
       "</style>\n",
       "<table border=\"1\" class=\"dataframe\">\n",
       "  <thead>\n",
       "    <tr style=\"text-align: right;\">\n",
       "      <th></th>\n",
       "      <th>Name</th>\n",
       "      <th>Age</th>\n",
       "      <th>Salary</th>\n",
       "      <th>Performance</th>\n",
       "    </tr>\n",
       "  </thead>\n",
       "  <tbody>\n",
       "    <tr>\n",
       "      <th>0</th>\n",
       "      <td>Amit</td>\n",
       "      <td>25</td>\n",
       "      <td>50000</td>\n",
       "      <td>Good</td>\n",
       "    </tr>\n",
       "    <tr>\n",
       "      <th>1</th>\n",
       "      <td>Sita</td>\n",
       "      <td>30</td>\n",
       "      <td>60000</td>\n",
       "      <td>Excellent</td>\n",
       "    </tr>\n",
       "    <tr>\n",
       "      <th>3</th>\n",
       "      <td>Priya</td>\n",
       "      <td>35</td>\n",
       "      <td>75000</td>\n",
       "      <td>Excellent</td>\n",
       "    </tr>\n",
       "    <tr>\n",
       "      <th>4</th>\n",
       "      <td>Vikram</td>\n",
       "      <td>40</td>\n",
       "      <td>80000</td>\n",
       "      <td>Good</td>\n",
       "    </tr>\n",
       "    <tr>\n",
       "      <th>6</th>\n",
       "      <td>Rohan</td>\n",
       "      <td>32</td>\n",
       "      <td>70000</td>\n",
       "      <td>Good</td>\n",
       "    </tr>\n",
       "    <tr>\n",
       "      <th>8</th>\n",
       "      <td>Meera</td>\n",
       "      <td>31</td>\n",
       "      <td>65000</td>\n",
       "      <td>Excellent</td>\n",
       "    </tr>\n",
       "  </tbody>\n",
       "</table>\n",
       "</div>"
      ],
      "text/plain": [
       "     Name  Age  Salary Performance\n",
       "0    Amit   25   50000        Good\n",
       "1    Sita   30   60000   Excellent\n",
       "3   Priya   35   75000   Excellent\n",
       "4  Vikram   40   80000        Good\n",
       "6   Rohan   32   70000        Good\n",
       "8   Meera   31   65000   Excellent"
      ]
     },
     "execution_count": 15,
     "metadata": {},
     "output_type": "execute_result"
    }
   ],
   "source": [
    "df[(df[\"Performance\"]==\"Good\") |(df[\"Performance\"] == \"Excellent\") ]"
   ]
  },
  {
   "cell_type": "markdown",
   "metadata": {},
   "source": [
    "Now combining rows:"
   ]
  },
  {
   "cell_type": "code",
   "execution_count": 16,
   "metadata": {},
   "outputs": [],
   "source": [
    "df[\"Summary\"] = df[\"Name\"] + \" - \" + df[\"Performance\"]"
   ]
  },
  {
   "cell_type": "code",
   "execution_count": 20,
   "metadata": {},
   "outputs": [
    {
     "data": {
      "text/plain": [
       "0          Amit-Good\n",
       "1     Sita-Excellent\n",
       "2        Raj-Average\n",
       "3    Priya-Excellent\n",
       "4        Vikram-Good\n",
       "5     Anjali-Average\n",
       "6         Rohan-Good\n",
       "7         Kiran-Poor\n",
       "8    Meera-Excellent\n",
       "Name: Summary, dtype: object"
      ]
     },
     "execution_count": 20,
     "metadata": {},
     "output_type": "execute_result"
    }
   ],
   "source": [
    "df[\"Summary\"]"
   ]
  },
  {
   "cell_type": "code",
   "execution_count": 21,
   "metadata": {},
   "outputs": [
    {
     "data": {
      "text/html": [
       "<div>\n",
       "<style scoped>\n",
       "    .dataframe tbody tr th:only-of-type {\n",
       "        vertical-align: middle;\n",
       "    }\n",
       "\n",
       "    .dataframe tbody tr th {\n",
       "        vertical-align: top;\n",
       "    }\n",
       "\n",
       "    .dataframe thead th {\n",
       "        text-align: right;\n",
       "    }\n",
       "</style>\n",
       "<table border=\"1\" class=\"dataframe\">\n",
       "  <thead>\n",
       "    <tr style=\"text-align: right;\">\n",
       "      <th></th>\n",
       "      <th>Name</th>\n",
       "      <th>Age</th>\n",
       "      <th>Salary</th>\n",
       "      <th>Performance</th>\n",
       "      <th>Summary</th>\n",
       "    </tr>\n",
       "  </thead>\n",
       "  <tbody>\n",
       "    <tr>\n",
       "      <th>0</th>\n",
       "      <td>Amit</td>\n",
       "      <td>25</td>\n",
       "      <td>50000</td>\n",
       "      <td>Good</td>\n",
       "      <td>Amit-Good</td>\n",
       "    </tr>\n",
       "    <tr>\n",
       "      <th>1</th>\n",
       "      <td>Sita</td>\n",
       "      <td>30</td>\n",
       "      <td>60000</td>\n",
       "      <td>Excellent</td>\n",
       "      <td>Sita-Excellent</td>\n",
       "    </tr>\n",
       "    <tr>\n",
       "      <th>2</th>\n",
       "      <td>Raj</td>\n",
       "      <td>28</td>\n",
       "      <td>55000</td>\n",
       "      <td>Average</td>\n",
       "      <td>Raj-Average</td>\n",
       "    </tr>\n",
       "    <tr>\n",
       "      <th>3</th>\n",
       "      <td>Priya</td>\n",
       "      <td>35</td>\n",
       "      <td>75000</td>\n",
       "      <td>Excellent</td>\n",
       "      <td>Priya-Excellent</td>\n",
       "    </tr>\n",
       "    <tr>\n",
       "      <th>4</th>\n",
       "      <td>Vikram</td>\n",
       "      <td>40</td>\n",
       "      <td>80000</td>\n",
       "      <td>Good</td>\n",
       "      <td>Vikram-Good</td>\n",
       "    </tr>\n",
       "    <tr>\n",
       "      <th>5</th>\n",
       "      <td>Anjali</td>\n",
       "      <td>29</td>\n",
       "      <td>52000</td>\n",
       "      <td>Average</td>\n",
       "      <td>Anjali-Average</td>\n",
       "    </tr>\n",
       "    <tr>\n",
       "      <th>6</th>\n",
       "      <td>Rohan</td>\n",
       "      <td>32</td>\n",
       "      <td>70000</td>\n",
       "      <td>Good</td>\n",
       "      <td>Rohan-Good</td>\n",
       "    </tr>\n",
       "    <tr>\n",
       "      <th>7</th>\n",
       "      <td>Kiran</td>\n",
       "      <td>26</td>\n",
       "      <td>48000</td>\n",
       "      <td>Poor</td>\n",
       "      <td>Kiran-Poor</td>\n",
       "    </tr>\n",
       "    <tr>\n",
       "      <th>8</th>\n",
       "      <td>Meera</td>\n",
       "      <td>31</td>\n",
       "      <td>65000</td>\n",
       "      <td>Excellent</td>\n",
       "      <td>Meera-Excellent</td>\n",
       "    </tr>\n",
       "  </tbody>\n",
       "</table>\n",
       "</div>"
      ],
      "text/plain": [
       "     Name  Age  Salary Performance          Summary\n",
       "0    Amit   25   50000        Good        Amit-Good\n",
       "1    Sita   30   60000   Excellent   Sita-Excellent\n",
       "2     Raj   28   55000     Average      Raj-Average\n",
       "3   Priya   35   75000   Excellent  Priya-Excellent\n",
       "4  Vikram   40   80000        Good      Vikram-Good\n",
       "5  Anjali   29   52000     Average   Anjali-Average\n",
       "6   Rohan   32   70000        Good       Rohan-Good\n",
       "7   Kiran   26   48000        Poor       Kiran-Poor\n",
       "8   Meera   31   65000   Excellent  Meera-Excellent"
      ]
     },
     "execution_count": 21,
     "metadata": {},
     "output_type": "execute_result"
    }
   ],
   "source": [
    "df"
   ]
  },
  {
   "cell_type": "code",
   "execution_count": null,
   "metadata": {},
   "outputs": [],
   "source": []
  }
 ],
 "metadata": {
  "kernelspec": {
   "display_name": ".venv",
   "language": "python",
   "name": "python3"
  },
  "language_info": {
   "codemirror_mode": {
    "name": "ipython",
    "version": 3
   },
   "file_extension": ".py",
   "mimetype": "text/x-python",
   "name": "python",
   "nbconvert_exporter": "python",
   "pygments_lexer": "ipython3",
   "version": "3.13.5"
  }
 },
 "nbformat": 4,
 "nbformat_minor": 2
}
